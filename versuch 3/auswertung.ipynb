{
 "cells": [
  {
   "cell_type": "code",
   "execution_count": null,
   "metadata": {},
   "outputs": [],
   "source": [
    "import numpy as np\n",
    "import matplotlib.pyplot as plt"
   ]
  },
  {
   "cell_type": "code",
   "execution_count": null,
   "metadata": {},
   "outputs": [],
   "source": [
    "# Laden des Signals (angenommen als CSV)\n",
    "signal = np.loadtxt(\"signal.csv\", delimiter=\",\")\n",
    "\n",
    "# Angenommene Parameter\n",
    "sampling_rate = 200000  # in Hz, ersetzen Sie dies mit Ihrem tatsächlichen Wert\n",
    "dt = 1 / sampling_rate\n",
    "\n",
    "# Zeitvektor erstellen\n",
    "t = np.arange(len(signal)) * dt\n",
    "\n",
    "# Signal darstellen\n",
    "plt.figure(figsize=(10, 4))\n",
    "plt.plot(t, signal)\n",
    "plt.xlabel('Zeit (s)')\n",
    "plt.ylabel('Amplitude')\n",
    "plt.title('Signal')\n",
    "plt.grid(True)\n",
    "plt.show()\n"
   ]
  },
  {
   "cell_type": "code",
   "execution_count": null,
   "metadata": {},
   "outputs": [],
   "source": [
    "# Fouriertransformation\n",
    "fft_result = fft(signal)\n",
    "\n",
    "# Amplitudenberechnung\n",
    "amplitudes = np.abs(fft_result)\n",
    "\n",
    "# Frequenzvektor erstellen\n",
    "frequencies = np.fft.fftfreq(len(signal), dt)\n",
    "\n",
    "frequencies_in_hz = frequencies * M * dt\n",
    "\n",
    "# Amplitudenspektrum darstellen\n",
    "plt.figure(figsize=(10, 4))\n",
    "plt.plot(frequencies, amplitudes)\n",
    "plt.xlabel('Frequenz (Hz)')\n",
    "plt.ylabel('Amplitude')\n",
    "plt.title('Amplitudenspektrum')\n",
    "plt.grid(True)\n",
    "plt.show()\n",
    "\n",
    "# Grundfrequenz identifizieren\n",
    "index_of_max = np.argmax(amplitudes[:M // 2])\n",
    "fundamental_freq = frequencies_in_hz[index_of_max]\n",
    "fundamental_amplitude = amplitudes[index_of_max]\n",
    "\n",
    "print(f\"Grundfrequenz: {fundamental_freq} Hz, Amplitude: {fundamental_amplitude}\")"
   ]
  }
 ],
 "metadata": {
  "language_info": {
   "name": "python"
  }
 },
 "nbformat": 4,
 "nbformat_minor": 2
}
