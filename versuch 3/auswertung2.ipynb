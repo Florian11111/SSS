{
 "cells": [
  {
   "cell_type": "code",
   "execution_count": 5,
   "metadata": {},
   "outputs": [],
   "source": [
    "import matplotlib.pyplot as plt\n",
    "import numpy as np"
   ]
  },
  {
   "cell_type": "code",
   "execution_count": 6,
   "metadata": {},
   "outputs": [
    {
     "name": "stdout",
     "output_type": "stream",
     "text": [
      "[(100, 5.1, 23.63), (200, 0.653, 93.87), (300, 3.23, 62.29), (400, 2.185, 44.56), (500, 1.728, 38.34), (700, 1.213, 29.43), (850, 0.97, 28.12), (1000, 0.8, 26.12), (1200, 0.642, 25.96), (1500, 0.488, 25.96), (1700, 0.414, 25.52), (2000, 0.333, 26.82), (3000, 0.195, 25.0), (4000, 0.19, 31.58), (5000, 0.049, 23.36), (6000, 0.041, 24.66), (10000, 0.05511, 24.66)]\n",
      "Frequenz: 100 Hz, Fasenverschiebung: 5.1 ms, Spitze: 23.63 mV\n",
      "Frequenz: 200 Hz, Fasenverschiebung: 0.653 ms, Spitze: 93.87 mV\n",
      "Frequenz: 300 Hz, Fasenverschiebung: 3.23 ms, Spitze: 62.29 mV\n",
      "Frequenz: 400 Hz, Fasenverschiebung: 2.185 ms, Spitze: 44.56 mV\n",
      "Frequenz: 500 Hz, Fasenverschiebung: 1.728 ms, Spitze: 38.34 mV\n",
      "Frequenz: 700 Hz, Fasenverschiebung: 1.213 ms, Spitze: 29.43 mV\n",
      "Frequenz: 850 Hz, Fasenverschiebung: 0.97 ms, Spitze: 28.12 mV\n",
      "Frequenz: 1000 Hz, Fasenverschiebung: 0.8 ms, Spitze: 26.12 mV\n",
      "Frequenz: 1200 Hz, Fasenverschiebung: 0.642 ms, Spitze: 25.96 mV\n",
      "Frequenz: 1500 Hz, Fasenverschiebung: 0.488 ms, Spitze: 25.96 mV\n",
      "Frequenz: 1700 Hz, Fasenverschiebung: 0.414 ms, Spitze: 25.52 mV\n",
      "Frequenz: 2000 Hz, Fasenverschiebung: 0.333 ms, Spitze: 26.82 mV\n",
      "Frequenz: 3000 Hz, Fasenverschiebung: 0.195 ms, Spitze: 25.0 mV\n",
      "Frequenz: 4000 Hz, Fasenverschiebung: 0.19 ms, Spitze: 31.58 mV\n",
      "Frequenz: 5000 Hz, Fasenverschiebung: 0.049 ms, Spitze: 23.36 mV\n",
      "Frequenz: 6000 Hz, Fasenverschiebung: 0.041 ms, Spitze: 24.66 mV\n",
      "Frequenz: 10000 Hz, Fasenverschiebung: 0.05511 ms, Spitze: 24.66 mV\n"
     ]
    },
    {
     "ename": "ValueError",
     "evalue": "x and y must have same first dimension, but have shapes (3,) and (1,)",
     "output_type": "error",
     "traceback": [
      "\u001b[1;31m---------------------------------------------------------------------------\u001b[0m",
      "\u001b[1;31mValueError\u001b[0m                                Traceback (most recent call last)",
      "\u001b[1;32mc:\\Users\\flori\\Documents\\HTWG\\Semester 3\\SSS\\versuch 3\\auswertung2.ipynb Cell 2\u001b[0m line \u001b[0;36m3\n\u001b[0;32m     <a href='vscode-notebook-cell:/c%3A/Users/flori/Documents/HTWG/Semester%203/SSS/versuch%203/auswertung2.ipynb#W1sZmlsZQ%3D%3D?line=36'>37</a>\u001b[0m plt\u001b[39m.\u001b[39mfigure()\n\u001b[0;32m     <a href='vscode-notebook-cell:/c%3A/Users/flori/Documents/HTWG/Semester%203/SSS/versuch%203/auswertung2.ipynb#W1sZmlsZQ%3D%3D?line=37'>38</a>\u001b[0m plt\u001b[39m.\u001b[39msubplot(\u001b[39m2\u001b[39m, \u001b[39m1\u001b[39m, \u001b[39m1\u001b[39m)\n\u001b[1;32m---> <a href='vscode-notebook-cell:/c%3A/Users/flori/Documents/HTWG/Semester%203/SSS/versuch%203/auswertung2.ipynb#W1sZmlsZQ%3D%3D?line=38'>39</a>\u001b[0m plt\u001b[39m.\u001b[39;49msemilogx(frequencies, amplitudes)\n\u001b[0;32m     <a href='vscode-notebook-cell:/c%3A/Users/flori/Documents/HTWG/Semester%203/SSS/versuch%203/auswertung2.ipynb#W1sZmlsZQ%3D%3D?line=39'>40</a>\u001b[0m plt\u001b[39m.\u001b[39mtitle(\u001b[39m'\u001b[39m\u001b[39mBode-Diagramm\u001b[39m\u001b[39m'\u001b[39m)\n\u001b[0;32m     <a href='vscode-notebook-cell:/c%3A/Users/flori/Documents/HTWG/Semester%203/SSS/versuch%203/auswertung2.ipynb#W1sZmlsZQ%3D%3D?line=40'>41</a>\u001b[0m plt\u001b[39m.\u001b[39mylabel(\u001b[39m'\u001b[39m\u001b[39mAmplitude (dB)\u001b[39m\u001b[39m'\u001b[39m)\n",
      "File \u001b[1;32mc:\\Users\\flori\\AppData\\Local\\Programs\\Python\\Python311\\Lib\\site-packages\\matplotlib\\pyplot.py:2874\u001b[0m, in \u001b[0;36msemilogx\u001b[1;34m(*args, **kwargs)\u001b[0m\n\u001b[0;32m   2872\u001b[0m \u001b[39m@_copy_docstring_and_deprecators\u001b[39m(Axes\u001b[39m.\u001b[39msemilogx)\n\u001b[0;32m   2873\u001b[0m \u001b[39mdef\u001b[39;00m \u001b[39msemilogx\u001b[39m(\u001b[39m*\u001b[39margs, \u001b[39m*\u001b[39m\u001b[39m*\u001b[39mkwargs):\n\u001b[1;32m-> 2874\u001b[0m     \u001b[39mreturn\u001b[39;00m gca()\u001b[39m.\u001b[39;49msemilogx(\u001b[39m*\u001b[39;49margs, \u001b[39m*\u001b[39;49m\u001b[39m*\u001b[39;49mkwargs)\n",
      "File \u001b[1;32mc:\\Users\\flori\\AppData\\Local\\Programs\\Python\\Python311\\Lib\\site-packages\\matplotlib\\axes\\_axes.py:1876\u001b[0m, in \u001b[0;36mAxes.semilogx\u001b[1;34m(self, *args, **kwargs)\u001b[0m\n\u001b[0;32m   1872\u001b[0m d \u001b[39m=\u001b[39m {k: v \u001b[39mfor\u001b[39;00m k, v \u001b[39min\u001b[39;00m kwargs\u001b[39m.\u001b[39mitems()\n\u001b[0;32m   1873\u001b[0m      \u001b[39mif\u001b[39;00m k \u001b[39min\u001b[39;00m [\u001b[39m'\u001b[39m\u001b[39mbase\u001b[39m\u001b[39m'\u001b[39m, \u001b[39m'\u001b[39m\u001b[39msubs\u001b[39m\u001b[39m'\u001b[39m, \u001b[39m'\u001b[39m\u001b[39mnonpositive\u001b[39m\u001b[39m'\u001b[39m,\n\u001b[0;32m   1874\u001b[0m               \u001b[39m'\u001b[39m\u001b[39mbasex\u001b[39m\u001b[39m'\u001b[39m, \u001b[39m'\u001b[39m\u001b[39msubsx\u001b[39m\u001b[39m'\u001b[39m, \u001b[39m'\u001b[39m\u001b[39mnonposx\u001b[39m\u001b[39m'\u001b[39m]}\n\u001b[0;32m   1875\u001b[0m \u001b[39mself\u001b[39m\u001b[39m.\u001b[39mset_xscale(\u001b[39m'\u001b[39m\u001b[39mlog\u001b[39m\u001b[39m'\u001b[39m, \u001b[39m*\u001b[39m\u001b[39m*\u001b[39md)\n\u001b[1;32m-> 1876\u001b[0m \u001b[39mreturn\u001b[39;00m \u001b[39mself\u001b[39;49m\u001b[39m.\u001b[39;49mplot(\n\u001b[0;32m   1877\u001b[0m     \u001b[39m*\u001b[39;49margs, \u001b[39m*\u001b[39;49m\u001b[39m*\u001b[39;49m{k: v \u001b[39mfor\u001b[39;49;00m k, v \u001b[39min\u001b[39;49;00m kwargs\u001b[39m.\u001b[39;49mitems() \u001b[39mif\u001b[39;49;00m k \u001b[39mnot\u001b[39;49;00m \u001b[39min\u001b[39;49;00m d})\n",
      "File \u001b[1;32mc:\\Users\\flori\\AppData\\Local\\Programs\\Python\\Python311\\Lib\\site-packages\\matplotlib\\axes\\_axes.py:1688\u001b[0m, in \u001b[0;36mAxes.plot\u001b[1;34m(self, scalex, scaley, data, *args, **kwargs)\u001b[0m\n\u001b[0;32m   1445\u001b[0m \u001b[39m\u001b[39m\u001b[39m\"\"\"\u001b[39;00m\n\u001b[0;32m   1446\u001b[0m \u001b[39mPlot y versus x as lines and/or markers.\u001b[39;00m\n\u001b[0;32m   1447\u001b[0m \n\u001b[1;32m   (...)\u001b[0m\n\u001b[0;32m   1685\u001b[0m \u001b[39m(``'green'``) or hex strings (``'#008000'``).\u001b[39;00m\n\u001b[0;32m   1686\u001b[0m \u001b[39m\"\"\"\u001b[39;00m\n\u001b[0;32m   1687\u001b[0m kwargs \u001b[39m=\u001b[39m cbook\u001b[39m.\u001b[39mnormalize_kwargs(kwargs, mlines\u001b[39m.\u001b[39mLine2D)\n\u001b[1;32m-> 1688\u001b[0m lines \u001b[39m=\u001b[39m [\u001b[39m*\u001b[39m\u001b[39mself\u001b[39m\u001b[39m.\u001b[39m_get_lines(\u001b[39m*\u001b[39margs, data\u001b[39m=\u001b[39mdata, \u001b[39m*\u001b[39m\u001b[39m*\u001b[39mkwargs)]\n\u001b[0;32m   1689\u001b[0m \u001b[39mfor\u001b[39;00m line \u001b[39min\u001b[39;00m lines:\n\u001b[0;32m   1690\u001b[0m     \u001b[39mself\u001b[39m\u001b[39m.\u001b[39madd_line(line)\n",
      "File \u001b[1;32mc:\\Users\\flori\\AppData\\Local\\Programs\\Python\\Python311\\Lib\\site-packages\\matplotlib\\axes\\_base.py:311\u001b[0m, in \u001b[0;36m_process_plot_var_args.__call__\u001b[1;34m(self, data, *args, **kwargs)\u001b[0m\n\u001b[0;32m    309\u001b[0m     this \u001b[39m+\u001b[39m\u001b[39m=\u001b[39m args[\u001b[39m0\u001b[39m],\n\u001b[0;32m    310\u001b[0m     args \u001b[39m=\u001b[39m args[\u001b[39m1\u001b[39m:]\n\u001b[1;32m--> 311\u001b[0m \u001b[39myield from\u001b[39;00m \u001b[39mself\u001b[39;49m\u001b[39m.\u001b[39;49m_plot_args(\n\u001b[0;32m    312\u001b[0m     this, kwargs, ambiguous_fmt_datakey\u001b[39m=\u001b[39;49mambiguous_fmt_datakey)\n",
      "File \u001b[1;32mc:\\Users\\flori\\AppData\\Local\\Programs\\Python\\Python311\\Lib\\site-packages\\matplotlib\\axes\\_base.py:504\u001b[0m, in \u001b[0;36m_process_plot_var_args._plot_args\u001b[1;34m(self, tup, kwargs, return_kwargs, ambiguous_fmt_datakey)\u001b[0m\n\u001b[0;32m    501\u001b[0m     \u001b[39mself\u001b[39m\u001b[39m.\u001b[39maxes\u001b[39m.\u001b[39myaxis\u001b[39m.\u001b[39mupdate_units(y)\n\u001b[0;32m    503\u001b[0m \u001b[39mif\u001b[39;00m x\u001b[39m.\u001b[39mshape[\u001b[39m0\u001b[39m] \u001b[39m!=\u001b[39m y\u001b[39m.\u001b[39mshape[\u001b[39m0\u001b[39m]:\n\u001b[1;32m--> 504\u001b[0m     \u001b[39mraise\u001b[39;00m \u001b[39mValueError\u001b[39;00m(\u001b[39mf\u001b[39m\u001b[39m\"\u001b[39m\u001b[39mx and y must have same first dimension, but \u001b[39m\u001b[39m\"\u001b[39m\n\u001b[0;32m    505\u001b[0m                      \u001b[39mf\u001b[39m\u001b[39m\"\u001b[39m\u001b[39mhave shapes \u001b[39m\u001b[39m{\u001b[39;00mx\u001b[39m.\u001b[39mshape\u001b[39m}\u001b[39;00m\u001b[39m and \u001b[39m\u001b[39m{\u001b[39;00my\u001b[39m.\u001b[39mshape\u001b[39m}\u001b[39;00m\u001b[39m\"\u001b[39m)\n\u001b[0;32m    506\u001b[0m \u001b[39mif\u001b[39;00m x\u001b[39m.\u001b[39mndim \u001b[39m>\u001b[39m \u001b[39m2\u001b[39m \u001b[39mor\u001b[39;00m y\u001b[39m.\u001b[39mndim \u001b[39m>\u001b[39m \u001b[39m2\u001b[39m:\n\u001b[0;32m    507\u001b[0m     \u001b[39mraise\u001b[39;00m \u001b[39mValueError\u001b[39;00m(\u001b[39mf\u001b[39m\u001b[39m\"\u001b[39m\u001b[39mx and y can be no greater than 2D, but have \u001b[39m\u001b[39m\"\u001b[39m\n\u001b[0;32m    508\u001b[0m                      \u001b[39mf\u001b[39m\u001b[39m\"\u001b[39m\u001b[39mshapes \u001b[39m\u001b[39m{\u001b[39;00mx\u001b[39m.\u001b[39mshape\u001b[39m}\u001b[39;00m\u001b[39m and \u001b[39m\u001b[39m{\u001b[39;00my\u001b[39m.\u001b[39mshape\u001b[39m}\u001b[39;00m\u001b[39m\"\u001b[39m)\n",
      "\u001b[1;31mValueError\u001b[0m: x and y must have same first dimension, but have shapes (3,) and (1,)"
     ]
    },
    {
     "data": {
      "image/png": "[encoded data removed]",
      "text/plain": [
       "<Figure size 640x480 with 1 Axes>"
      ]
     },
     "metadata": {},
     "output_type": "display_data"
    }
   ],
   "source": [
    "import csv\n",
    "\n",
    "# Funktion zum Einlesen der Daten aus der CSV-Datei\n",
    "def read_data(file_path):\n",
    "    data = []\n",
    "    with open(file_path, newline='') as csvfile:\n",
    "        reader = csv.reader(csvfile, delimiter=';')\n",
    "        next(reader)  # Überspringe Header\n",
    "        for row in reader:\n",
    "            frequency = int(row[0].strip())\n",
    "            phase_shift_str = row[1].strip()\n",
    "            if 'ms' in phase_shift_str:\n",
    "                phase_shift = float(phase_shift_str.replace(' ms', ''))\n",
    "            elif 'micro' in phase_shift_str:\n",
    "                phase_shift = float(phase_shift_str.replace(' micro', '')) / 1000  # Umrechnung von micros zu ms\n",
    "            else:\n",
    "                raise ValueError(\"Ungültige Einheit für die Fasenverschiebung.\")\n",
    "            peak = float(row[2].strip())\n",
    "            data.append((frequency, phase_shift, peak))\n",
    "    return data\n",
    "\n",
    "# Beispielaufruf\n",
    "file_path = 'aufgabe3(LautsprecherGross).csv'  # Passe den Dateipfad entsprechend an\n",
    "dataset = read_data(file_path)\n",
    "print(dataset)\n",
    "\n",
    "# Ausgabe der eingelesenen Daten\n",
    "for entry in dataset:\n",
    "    print(f\"Frequenz: {entry[0]} Hz, Fasenverschiebung: {entry[1]} ms, Spitze: {entry[2]} mV\")\n",
    "\n",
    "# Angenommen, wir haben Arrays mit Frequenzen, Amplituden und Phasenwinkeln\n",
    "frequencies = dataset[0]  # Frequenzen in Hz\n",
    "amplitudes = entry[1]  # Amplituden (bereits in dB umgerechnet)\n",
    "phase_angles = entry[2]  # Phasenwinkel in Grad\n",
    "\n",
    "# Erstellen des Bode-Diagramms\n",
    "plt.figure()\n",
    "plt.subplot(2, 1, 1)\n",
    "plt.semilogx(frequencies, amplitudes)\n",
    "plt.title('Bode-Diagramm')\n",
    "plt.ylabel('Amplitude (dB)')\n",
    "\n",
    "plt.subplot(2, 1, 2)\n",
    "plt.semilogx(frequencies, phase_angles)\n",
    "plt.xlabel('Frequenz (Hz)')\n",
    "plt.ylabel('Phase (Grad)')\n",
    "plt.show()"
   ]
  }
 ],
 "metadata": {
  "kernelspec": {
   "display_name": "Python 3",
   "language": "python",
   "name": "python3"
  },
  "language_info": {
   "codemirror_mode": {
    "name": "ipython",
    "version": 3
   },
   "file_extension": ".py",
   "mimetype": "text/x-python",
   "name": "python",
   "nbconvert_exporter": "python",
   "pygments_lexer": "ipython3",
   "version": "3.11.2"
  }
 },
 "nbformat": 4,
 "nbformat_minor": 2
}
