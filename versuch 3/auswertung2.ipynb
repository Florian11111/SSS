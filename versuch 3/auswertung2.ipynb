{
 "cells": [
  {
   "cell_type": "code",
   "execution_count": null,
   "metadata": {},
   "outputs": [],
   "source": [
    "import matplotlib.pyplot as plt\n",
    "import numpy as np"
   ]
  },
  {
   "cell_type": "code",
   "execution_count": null,
   "metadata": {},
   "outputs": [],
   "source": [
    "# Angenommen, wir haben Arrays mit Frequenzen, Amplituden und Phasenwinkeln\n",
    "frequencies = np.array([...])  # Frequenzen in Hz\n",
    "amplitudes = np.array([...])  # Amplituden (bereits in dB umgerechnet)\n",
    "phase_angles = np.array([...])  # Phasenwinkel in Grad\n",
    "\n",
    "# Erstellen des Bode-Diagramms\n",
    "plt.figure()\n",
    "plt.subplot(2, 1, 1)\n",
    "plt.semilogx(frequencies, amplitudes)\n",
    "plt.title('Bode-Diagramm')\n",
    "plt.ylabel('Amplitude (dB)')\n",
    "\n",
    "plt.subplot(2, 1, 2)\n",
    "plt.semilogx(frequencies, phase_angles)\n",
    "plt.xlabel('Frequenz (Hz)')\n",
    "plt.ylabel('Phase (Grad)')\n",
    "plt.show()"
   ]
  }
 ],
 "metadata": {
  "language_info": {
   "name": "python"
  }
 },
 "nbformat": 4,
 "nbformat_minor": 2
}
