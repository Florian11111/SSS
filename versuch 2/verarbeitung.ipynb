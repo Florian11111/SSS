{
 "cells": [
  {
   "cell_type": "code",
   "execution_count": 12,
   "metadata": {},
   "outputs": [
    {
     "name": "stdout",
     "output_type": "stream",
     "text": [
      "Bildbreite: 640\n",
      "Bildhöhe: 480\n",
      "--------------------------------\n",
      "Helligkeit: 0\n"
     ]
    }
   ],
   "source": [
    "import cv2\n",
    "\n",
    "# Lade ein PNG-Bild (ersetzen Sie 'bild.png' durch den Dateipfad zu Ihrem Bild)\n",
    "image = cv2.imread('schwarz/Schwarz1.png')\n",
    "image = cv2.cvtColor(image, cv2.COLOR_BGR2GRAY)\n",
    "if image is None:\n",
    "    print(\"Das Bild konnte nicht geladen werden. Stellen Sie sicher, dass die Datei existiert und der Pfad korrekt ist.\")\n",
    "else:\n",
    "    # Zeigen Sie die Bildgröße und einige andere Eigenschaften an\n",
    "    print(\"Bildbreite: \" + str(image.shape[1]))  # Breite des Bildes\n",
    "    print(\"Bildhöhe: \" + str(image.shape[0]))   # Höhe des Bildes\n",
    "    print(\"--------------------------------\")\n",
    "    print(\"Helligkeit: \" + str(image[0, 0]))  # Helligkeit des ersten Pixels (Blau-Kanal)\n",
    "\n",
    "# Beachten Sie, dass die Indizes (0, 0) in image[x, y, z] die Position des Pixels und die Farbkanäle repräsentieren (BGR-Reihenfolge).\n"
   ]
  }
 ],
 "metadata": {
  "kernelspec": {
   "display_name": "Python 3",
   "language": "python",
   "name": "python3"
  },
  "language_info": {
   "codemirror_mode": {
    "name": "ipython",
    "version": 3
   },
   "file_extension": ".py",
   "mimetype": "text/x-python",
   "name": "python",
   "nbconvert_exporter": "python",
   "pygments_lexer": "ipython3",
   "version": "3.11.2"
  }
 },
 "nbformat": 4,
 "nbformat_minor": 2
}
